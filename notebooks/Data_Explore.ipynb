{
 "cells": [
  {
   "cell_type": "code",
   "execution_count": 9,
   "id": "4a677863-7eb4-4560-a67d-c201f3a20e99",
   "metadata": {},
   "outputs": [],
   "source": [
    "#importation\n",
    "import numpy as np\n",
    "import pandas as pd\n",
    "import os\n",
    "import sys\n",
    "sys.path.insert(0, '../scripts')\n",
    "import clean_data"
   ]
  },
  {
   "cell_type": "code",
   "execution_count": 10,
   "id": "ca2ab2c4-236f-4c54-9f46-bd2f8337d4ba",
   "metadata": {},
   "outputs": [
    {
     "data": {
      "text/html": [
       "<div>\n",
       "<style scoped>\n",
       "    .dataframe tbody tr th:only-of-type {\n",
       "        vertical-align: middle;\n",
       "    }\n",
       "\n",
       "    .dataframe tbody tr th {\n",
       "        vertical-align: top;\n",
       "    }\n",
       "\n",
       "    .dataframe thead th {\n",
       "        text-align: right;\n",
       "    }\n",
       "</style>\n",
       "<table border=\"1\" class=\"dataframe\">\n",
       "  <thead>\n",
       "    <tr style=\"text-align: right;\">\n",
       "      <th></th>\n",
       "      <th>Bearer Id</th>\n",
       "      <th>Start</th>\n",
       "      <th>Start ms</th>\n",
       "      <th>End</th>\n",
       "      <th>End ms</th>\n",
       "      <th>Dur. (ms)</th>\n",
       "      <th>IMSI</th>\n",
       "      <th>MSISDN/Number</th>\n",
       "      <th>IMEI</th>\n",
       "      <th>Last Location Name</th>\n",
       "      <th>...</th>\n",
       "      <th>Youtube DL (Bytes)</th>\n",
       "      <th>Youtube UL (Bytes)</th>\n",
       "      <th>Netflix DL (Bytes)</th>\n",
       "      <th>Netflix UL (Bytes)</th>\n",
       "      <th>Gaming DL (Bytes)</th>\n",
       "      <th>Gaming UL (Bytes)</th>\n",
       "      <th>Other DL (Bytes)</th>\n",
       "      <th>Other UL (Bytes)</th>\n",
       "      <th>Total UL (Bytes)</th>\n",
       "      <th>Total DL (Bytes)</th>\n",
       "    </tr>\n",
       "  </thead>\n",
       "  <tbody>\n",
       "    <tr>\n",
       "      <th>0</th>\n",
       "      <td>1.311450e+19</td>\n",
       "      <td>4/4/2019 12:01</td>\n",
       "      <td>770.0</td>\n",
       "      <td>4/25/2019 14:35</td>\n",
       "      <td>662.0</td>\n",
       "      <td>1823652.0</td>\n",
       "      <td>2.082010e+14</td>\n",
       "      <td>3.366496e+10</td>\n",
       "      <td>3.552120e+13</td>\n",
       "      <td>9.16457E+15</td>\n",
       "      <td>...</td>\n",
       "      <td>15854611.0</td>\n",
       "      <td>2501332.0</td>\n",
       "      <td>8198936.0</td>\n",
       "      <td>9656251.0</td>\n",
       "      <td>278082303.0</td>\n",
       "      <td>14344150.0</td>\n",
       "      <td>171744450.0</td>\n",
       "      <td>8814393.0</td>\n",
       "      <td>36749741.0</td>\n",
       "      <td>308879636.0</td>\n",
       "    </tr>\n",
       "    <tr>\n",
       "      <th>1</th>\n",
       "      <td>1.311450e+19</td>\n",
       "      <td>4/9/2019 13:04</td>\n",
       "      <td>235.0</td>\n",
       "      <td>4/25/2019 8:15</td>\n",
       "      <td>606.0</td>\n",
       "      <td>1365104.0</td>\n",
       "      <td>2.082020e+14</td>\n",
       "      <td>3.368185e+10</td>\n",
       "      <td>3.579400e+13</td>\n",
       "      <td>L77566A</td>\n",
       "      <td>...</td>\n",
       "      <td>20247395.0</td>\n",
       "      <td>19111729.0</td>\n",
       "      <td>18338413.0</td>\n",
       "      <td>17227132.0</td>\n",
       "      <td>608750074.0</td>\n",
       "      <td>1170709.0</td>\n",
       "      <td>526904238.0</td>\n",
       "      <td>15055145.0</td>\n",
       "      <td>53800391.0</td>\n",
       "      <td>653384965.0</td>\n",
       "    </tr>\n",
       "    <tr>\n",
       "      <th>2</th>\n",
       "      <td>1.311450e+19</td>\n",
       "      <td>4/9/2019 17:42</td>\n",
       "      <td>1.0</td>\n",
       "      <td>4/25/2019 11:58</td>\n",
       "      <td>652.0</td>\n",
       "      <td>1361762.0</td>\n",
       "      <td>2.082000e+14</td>\n",
       "      <td>3.376063e+10</td>\n",
       "      <td>3.528150e+13</td>\n",
       "      <td>D42335A</td>\n",
       "      <td>...</td>\n",
       "      <td>19725661.0</td>\n",
       "      <td>14699576.0</td>\n",
       "      <td>17587794.0</td>\n",
       "      <td>6163408.0</td>\n",
       "      <td>229584621.0</td>\n",
       "      <td>395630.0</td>\n",
       "      <td>410692588.0</td>\n",
       "      <td>4215763.0</td>\n",
       "      <td>27883638.0</td>\n",
       "      <td>279807335.0</td>\n",
       "    </tr>\n",
       "    <tr>\n",
       "      <th>3</th>\n",
       "      <td>1.311450e+19</td>\n",
       "      <td>4/10/2019 0:31</td>\n",
       "      <td>486.0</td>\n",
       "      <td>4/25/2019 7:36</td>\n",
       "      <td>171.0</td>\n",
       "      <td>1321509.0</td>\n",
       "      <td>2.082010e+14</td>\n",
       "      <td>3.375034e+10</td>\n",
       "      <td>3.535660e+13</td>\n",
       "      <td>T21824A</td>\n",
       "      <td>...</td>\n",
       "      <td>21388122.0</td>\n",
       "      <td>15146643.0</td>\n",
       "      <td>13994646.0</td>\n",
       "      <td>1097942.0</td>\n",
       "      <td>799538153.0</td>\n",
       "      <td>10849722.0</td>\n",
       "      <td>749039933.0</td>\n",
       "      <td>12797283.0</td>\n",
       "      <td>43324218.0</td>\n",
       "      <td>846028530.0</td>\n",
       "    </tr>\n",
       "    <tr>\n",
       "      <th>4</th>\n",
       "      <td>1.311450e+19</td>\n",
       "      <td>4/12/2019 20:10</td>\n",
       "      <td>565.0</td>\n",
       "      <td>4/25/2019 10:40</td>\n",
       "      <td>954.0</td>\n",
       "      <td>1089009.0</td>\n",
       "      <td>2.082010e+14</td>\n",
       "      <td>3.369980e+10</td>\n",
       "      <td>3.540700e+13</td>\n",
       "      <td>D88865A</td>\n",
       "      <td>...</td>\n",
       "      <td>15259380.0</td>\n",
       "      <td>18962873.0</td>\n",
       "      <td>17124581.0</td>\n",
       "      <td>415218.0</td>\n",
       "      <td>527707248.0</td>\n",
       "      <td>3529801.0</td>\n",
       "      <td>550709500.0</td>\n",
       "      <td>13910322.0</td>\n",
       "      <td>38542814.0</td>\n",
       "      <td>569138589.0</td>\n",
       "    </tr>\n",
       "  </tbody>\n",
       "</table>\n",
       "<p>5 rows × 55 columns</p>\n",
       "</div>"
      ],
      "text/plain": [
       "      Bearer Id            Start  Start ms              End  End ms  \\\n",
       "0  1.311450e+19   4/4/2019 12:01     770.0  4/25/2019 14:35   662.0   \n",
       "1  1.311450e+19   4/9/2019 13:04     235.0   4/25/2019 8:15   606.0   \n",
       "2  1.311450e+19   4/9/2019 17:42       1.0  4/25/2019 11:58   652.0   \n",
       "3  1.311450e+19   4/10/2019 0:31     486.0   4/25/2019 7:36   171.0   \n",
       "4  1.311450e+19  4/12/2019 20:10     565.0  4/25/2019 10:40   954.0   \n",
       "\n",
       "   Dur. (ms)          IMSI  MSISDN/Number          IMEI Last Location Name  \\\n",
       "0  1823652.0  2.082010e+14   3.366496e+10  3.552120e+13        9.16457E+15   \n",
       "1  1365104.0  2.082020e+14   3.368185e+10  3.579400e+13            L77566A   \n",
       "2  1361762.0  2.082000e+14   3.376063e+10  3.528150e+13            D42335A   \n",
       "3  1321509.0  2.082010e+14   3.375034e+10  3.535660e+13            T21824A   \n",
       "4  1089009.0  2.082010e+14   3.369980e+10  3.540700e+13            D88865A   \n",
       "\n",
       "   ...  Youtube DL (Bytes)  Youtube UL (Bytes)  Netflix DL (Bytes)  \\\n",
       "0  ...          15854611.0           2501332.0           8198936.0   \n",
       "1  ...          20247395.0          19111729.0          18338413.0   \n",
       "2  ...          19725661.0          14699576.0          17587794.0   \n",
       "3  ...          21388122.0          15146643.0          13994646.0   \n",
       "4  ...          15259380.0          18962873.0          17124581.0   \n",
       "\n",
       "   Netflix UL (Bytes)  Gaming DL (Bytes)  Gaming UL (Bytes)  Other DL (Bytes)  \\\n",
       "0           9656251.0        278082303.0         14344150.0       171744450.0   \n",
       "1          17227132.0        608750074.0          1170709.0       526904238.0   \n",
       "2           6163408.0        229584621.0           395630.0       410692588.0   \n",
       "3           1097942.0        799538153.0         10849722.0       749039933.0   \n",
       "4            415218.0        527707248.0          3529801.0       550709500.0   \n",
       "\n",
       "   Other UL (Bytes)  Total UL (Bytes)  Total DL (Bytes)  \n",
       "0         8814393.0        36749741.0       308879636.0  \n",
       "1        15055145.0        53800391.0       653384965.0  \n",
       "2         4215763.0        27883638.0       279807335.0  \n",
       "3        12797283.0        43324218.0       846028530.0  \n",
       "4        13910322.0        38542814.0       569138589.0  \n",
       "\n",
       "[5 rows x 55 columns]"
      ]
     },
     "execution_count": 10,
     "metadata": {},
     "output_type": "execute_result"
    }
   ],
   "source": [
    "#load data\n",
    "parent_dir = os.path.abspath(os.path.join(os.getcwd(), os.pardir))\n",
    "data_path = os.path.join(parent_dir, \"data\", \"Week1_challenge_data_source.csv\")                             \n",
    "db = pd.read_csv(data_path)\n",
    "db.head()"
   ]
  },
  {
   "cell_type": "code",
   "execution_count": 11,
   "id": "6219843d-0110-4479-950d-ef4bb85a2d15",
   "metadata": {},
   "outputs": [
    {
     "data": {
      "text/plain": [
       "['Bearer Id',\n",
       " 'Start',\n",
       " 'Start ms',\n",
       " 'End',\n",
       " 'End ms',\n",
       " 'Dur. (ms)',\n",
       " 'IMSI',\n",
       " 'MSISDN/Number',\n",
       " 'IMEI',\n",
       " 'Last Location Name',\n",
       " 'Avg RTT DL (ms)',\n",
       " 'Avg RTT UL (ms)',\n",
       " 'Avg Bearer TP DL (kbps)',\n",
       " 'Avg Bearer TP UL (kbps)',\n",
       " 'TCP DL Retrans. Vol (Bytes)',\n",
       " 'TCP UL Retrans. Vol (Bytes)',\n",
       " 'DL TP < 50 Kbps (%)',\n",
       " '50 Kbps < DL TP < 250 Kbps (%)',\n",
       " '250 Kbps < DL TP < 1 Mbps (%)',\n",
       " 'DL TP > 1 Mbps (%)',\n",
       " 'UL TP < 10 Kbps (%)',\n",
       " '10 Kbps < UL TP < 50 Kbps (%)',\n",
       " '50 Kbps < UL TP < 300 Kbps (%)',\n",
       " 'UL TP > 300 Kbps (%)',\n",
       " 'HTTP DL (Bytes)',\n",
       " 'HTTP UL (Bytes)',\n",
       " 'Activity Duration DL (ms)',\n",
       " 'Activity Duration UL (ms)',\n",
       " 'Dur. (ms).1',\n",
       " 'Handset Manufacturer',\n",
       " 'Handset Type',\n",
       " 'Nb of sec with 125000B < Vol DL',\n",
       " 'Nb of sec with 1250B < Vol UL < 6250B',\n",
       " 'Nb of sec with 31250B < Vol DL < 125000B',\n",
       " 'Nb of sec with 37500B < Vol UL',\n",
       " 'Nb of sec with 6250B < Vol DL < 31250B',\n",
       " 'Nb of sec with 6250B < Vol UL < 37500B',\n",
       " 'Nb of sec with Vol DL < 6250B',\n",
       " 'Nb of sec with Vol UL < 1250B',\n",
       " 'Social Media DL (Bytes)',\n",
       " 'Social Media UL (Bytes)',\n",
       " 'Google DL (Bytes)',\n",
       " 'Google UL (Bytes)',\n",
       " 'Email DL (Bytes)',\n",
       " 'Email UL (Bytes)',\n",
       " 'Youtube DL (Bytes)',\n",
       " 'Youtube UL (Bytes)',\n",
       " 'Netflix DL (Bytes)',\n",
       " 'Netflix UL (Bytes)',\n",
       " 'Gaming DL (Bytes)',\n",
       " 'Gaming UL (Bytes)',\n",
       " 'Other DL (Bytes)',\n",
       " 'Other UL (Bytes)',\n",
       " 'Total UL (Bytes)',\n",
       " 'Total DL (Bytes)']"
      ]
     },
     "execution_count": 11,
     "metadata": {},
     "output_type": "execute_result"
    }
   ],
   "source": [
    "#column names\n",
    "db.columns.tolist()"
   ]
  },
  {
   "cell_type": "code",
   "execution_count": 12,
   "id": "21f20ff4-1cdf-42a7-8d27-9df44c5c7132",
   "metadata": {},
   "outputs": [
    {
     "name": "stdout",
     "output_type": "stream",
     "text": [
      "There are 150001 rows and 55 columns\n"
     ]
    }
   ],
   "source": [
    "#number of data points\n",
    "print(f\"There are {db.shape[0]} rows and {db.shape[1]} columns\")"
   ]
  },
  {
   "cell_type": "markdown",
   "id": "0cacec89-c0e2-4478-88cb-d32a3986d72c",
   "metadata": {},
   "source": [
    "## Handling missing values"
   ]
  },
  {
   "cell_type": "code",
   "execution_count": 13,
   "id": "deef7d61-5635-4f19-acf2-9c14193b5c8c",
   "metadata": {
    "colab": {
     "base_uri": "https://localhost:8080/"
    },
    "executionInfo": {
     "elapsed": 25,
     "status": "ok",
     "timestamp": 1626169593507,
     "user": {
      "displayName": "Kevin Karobia",
      "photoUrl": "",
      "userId": "11620910033834049837"
     },
     "user_tz": -180
    },
    "id": "67977677",
    "outputId": "8e9d562f-04d4-48a7-bcd0-97f742c5922a",
    "tags": []
   },
   "outputs": [
    {
     "name": "stdout",
     "output_type": "stream",
     "text": [
      "The TellCo dataset contains 12.5 % missing values.\n",
      "None\n"
     ]
    }
   ],
   "source": [
    "# what is the % of missing values in the dataset?\n",
    "missing_percentage = clean_data.percent_missing(db)\n",
    "print(missing_percentage)"
   ]
  },
  {
   "cell_type": "code",
   "execution_count": 6,
   "id": "cbc05f74-1b51-4430-996b-d90ce23d37bc",
   "metadata": {},
   "outputs": [
    {
     "data": {
      "text/plain": [
       "Bearer Id                                   float64\n",
       "Start                                        object\n",
       "Start ms                                    float64\n",
       "End                                          object\n",
       "End ms                                      float64\n",
       "Dur. (ms)                                   float64\n",
       "IMSI                                        float64\n",
       "MSISDN/Number                               float64\n",
       "IMEI                                        float64\n",
       "Last Location Name                           object\n",
       "Avg RTT DL (ms)                             float64\n",
       "Avg RTT UL (ms)                             float64\n",
       "Avg Bearer TP DL (kbps)                     float64\n",
       "Avg Bearer TP UL (kbps)                     float64\n",
       "TCP DL Retrans. Vol (Bytes)                 float64\n",
       "TCP UL Retrans. Vol (Bytes)                 float64\n",
       "DL TP < 50 Kbps (%)                         float64\n",
       "50 Kbps < DL TP < 250 Kbps (%)              float64\n",
       "250 Kbps < DL TP < 1 Mbps (%)               float64\n",
       "DL TP > 1 Mbps (%)                          float64\n",
       "UL TP < 10 Kbps (%)                         float64\n",
       "10 Kbps < UL TP < 50 Kbps (%)               float64\n",
       "50 Kbps < UL TP < 300 Kbps (%)              float64\n",
       "UL TP > 300 Kbps (%)                        float64\n",
       "HTTP DL (Bytes)                             float64\n",
       "HTTP UL (Bytes)                             float64\n",
       "Activity Duration DL (ms)                   float64\n",
       "Activity Duration UL (ms)                   float64\n",
       "Dur. (ms).1                                 float64\n",
       "Handset Manufacturer                         object\n",
       "Handset Type                                 object\n",
       "Nb of sec with 125000B < Vol DL             float64\n",
       "Nb of sec with 1250B < Vol UL < 6250B       float64\n",
       "Nb of sec with 31250B < Vol DL < 125000B    float64\n",
       "Nb of sec with 37500B < Vol UL              float64\n",
       "Nb of sec with 6250B < Vol DL < 31250B      float64\n",
       "Nb of sec with 6250B < Vol UL < 37500B      float64\n",
       "Nb of sec with Vol DL < 6250B               float64\n",
       "Nb of sec with Vol UL < 1250B               float64\n",
       "Social Media DL (Bytes)                     float64\n",
       "Social Media UL (Bytes)                     float64\n",
       "Google DL (Bytes)                           float64\n",
       "Google UL (Bytes)                           float64\n",
       "Email DL (Bytes)                            float64\n",
       "Email UL (Bytes)                            float64\n",
       "Youtube DL (Bytes)                          float64\n",
       "Youtube UL (Bytes)                          float64\n",
       "Netflix DL (Bytes)                          float64\n",
       "Netflix UL (Bytes)                          float64\n",
       "Gaming DL (Bytes)                           float64\n",
       "Gaming UL (Bytes)                           float64\n",
       "Other DL (Bytes)                            float64\n",
       "Other UL (Bytes)                            float64\n",
       "Total UL (Bytes)                            float64\n",
       "Total DL (Bytes)                            float64\n",
       "dtype: object"
      ]
     },
     "execution_count": 6,
     "metadata": {},
     "output_type": "execute_result"
    }
   ],
   "source": [
    "#displays the datatype of columns\n",
    "db.dtypes"
   ]
  },
  {
   "cell_type": "code",
   "execution_count": 14,
   "id": "3beb85ac-1a11-4a94-940c-f0c96a7ac567",
   "metadata": {},
   "outputs": [
    {
     "name": "stdout",
     "output_type": "stream",
     "text": [
      "                                          percentage_of_missed_values\n",
      "Bearer Id                                                    0.660662\n",
      "Start                                                        0.000667\n",
      "Start ms                                                     0.000667\n",
      "End                                                          0.000667\n",
      "End ms                                                       0.000667\n",
      "Dur. (ms)                                                    0.000667\n",
      "IMSI                                                         0.379997\n",
      "MSISDN/Number                                                0.710662\n",
      "IMEI                                                         0.381331\n",
      "Last Location Name                                           0.768662\n",
      "Avg RTT DL (ms)                                             18.552543\n",
      "Avg RTT UL (ms)                                             18.541210\n",
      "Avg Bearer TP DL (kbps)                                      0.000667\n",
      "Avg Bearer TP UL (kbps)                                      0.000667\n",
      "TCP DL Retrans. Vol (Bytes)                                 58.763608\n",
      "TCP UL Retrans. Vol (Bytes)                                 64.432237\n",
      "DL TP < 50 Kbps (%)                                          0.502663\n",
      "50 Kbps < DL TP < 250 Kbps (%)                               0.502663\n",
      "250 Kbps < DL TP < 1 Mbps (%)                                0.502663\n",
      "DL TP > 1 Mbps (%)                                           0.502663\n",
      "UL TP < 10 Kbps (%)                                          0.527996\n",
      "10 Kbps < UL TP < 50 Kbps (%)                                0.527996\n",
      "50 Kbps < UL TP < 300 Kbps (%)                               0.527996\n",
      "UL TP > 300 Kbps (%)                                         0.527996\n",
      "HTTP DL (Bytes)                                             54.315638\n",
      "HTTP UL (Bytes)                                             54.539636\n",
      "Activity Duration DL (ms)                                    0.000667\n",
      "Activity Duration UL (ms)                                    0.000667\n",
      "Dur. (ms).1                                                  0.000667\n",
      "Handset Manufacturer                                         0.381331\n",
      "Handset Type                                                 0.381331\n",
      "Nb of sec with 125000B < Vol DL                             65.024900\n",
      "Nb of sec with 1250B < Vol UL < 6250B                       61.928920\n",
      "Nb of sec with 31250B < Vol DL < 125000B                    62.390251\n",
      "Nb of sec with 37500B < Vol UL                              86.835421\n",
      "Nb of sec with 6250B < Vol DL < 31250B                      58.877607\n",
      "Nb of sec with 6250B < Vol UL < 37500B                      74.561503\n",
      "Nb of sec with Vol DL < 6250B                                0.503330\n",
      "Nb of sec with Vol UL < 1250B                                0.528663\n",
      "Social Media DL (Bytes)                                      0.000000\n",
      "Social Media UL (Bytes)                                      0.000000\n",
      "Google DL (Bytes)                                            0.000000\n",
      "Google UL (Bytes)                                            0.000000\n",
      "Email DL (Bytes)                                             0.000000\n",
      "Email UL (Bytes)                                             0.000000\n",
      "Youtube DL (Bytes)                                           0.000000\n",
      "Youtube UL (Bytes)                                           0.000000\n",
      "Netflix DL (Bytes)                                           0.000000\n",
      "Netflix UL (Bytes)                                           0.000000\n",
      "Gaming DL (Bytes)                                            0.000000\n",
      "Gaming UL (Bytes)                                            0.000000\n",
      "Other DL (Bytes)                                             0.000000\n",
      "Other UL (Bytes)                                             0.000000\n",
      "Total UL (Bytes)                                             0.000667\n",
      "Total DL (Bytes)                                             0.000667\n"
     ]
    }
   ],
   "source": [
    "#calculate percentage of missed values\n",
    "percent_missing = db.isnull().sum() * 100 / len(db)\n",
    "missing_value_db = pd.DataFrame({'percentage_of_missed_values': percent_missing})\n",
    "print(missing_value_db)"
   ]
  },
  {
   "cell_type": "code",
   "execution_count": 15,
   "id": "8f063455-a790-42d0-a009-51f7fec6a260",
   "metadata": {},
   "outputs": [
    {
     "name": "stdout",
     "output_type": "stream",
     "text": [
      "Modified Dataframe Columns: \n"
     ]
    },
    {
     "data": {
      "text/plain": [
       "['Bearer Id',\n",
       " 'Start',\n",
       " 'Start ms',\n",
       " 'End',\n",
       " 'End ms',\n",
       " 'Dur. (ms)',\n",
       " 'IMSI',\n",
       " 'MSISDN/Number',\n",
       " 'IMEI',\n",
       " 'Last Location Name',\n",
       " 'Avg RTT DL (ms)',\n",
       " 'Avg RTT UL (ms)',\n",
       " 'Avg Bearer TP DL (kbps)',\n",
       " 'Avg Bearer TP UL (kbps)',\n",
       " 'DL TP < 50 Kbps (%)',\n",
       " '50 Kbps < DL TP < 250 Kbps (%)',\n",
       " '250 Kbps < DL TP < 1 Mbps (%)',\n",
       " 'DL TP > 1 Mbps (%)',\n",
       " 'UL TP < 10 Kbps (%)',\n",
       " '10 Kbps < UL TP < 50 Kbps (%)',\n",
       " '50 Kbps < UL TP < 300 Kbps (%)',\n",
       " 'UL TP > 300 Kbps (%)',\n",
       " 'Activity Duration DL (ms)',\n",
       " 'Activity Duration UL (ms)',\n",
       " 'Dur. (ms).1',\n",
       " 'Handset Manufacturer',\n",
       " 'Handset Type',\n",
       " 'Nb of sec with Vol DL < 6250B',\n",
       " 'Nb of sec with Vol UL < 1250B',\n",
       " 'Social Media DL (Bytes)',\n",
       " 'Social Media UL (Bytes)',\n",
       " 'Google DL (Bytes)',\n",
       " 'Google UL (Bytes)',\n",
       " 'Email DL (Bytes)',\n",
       " 'Email UL (Bytes)',\n",
       " 'Youtube DL (Bytes)',\n",
       " 'Youtube UL (Bytes)',\n",
       " 'Netflix DL (Bytes)',\n",
       " 'Netflix UL (Bytes)',\n",
       " 'Gaming DL (Bytes)',\n",
       " 'Gaming UL (Bytes)',\n",
       " 'Other DL (Bytes)',\n",
       " 'Other UL (Bytes)',\n",
       " 'Total UL (Bytes)',\n",
       " 'Total DL (Bytes)']"
      ]
     },
     "execution_count": 15,
     "metadata": {},
     "output_type": "execute_result"
    }
   ],
   "source": [
    "#modify data frame by removing null values above 30%\n",
    "perc = 30.0\n",
    "min_count = int(((100-perc)/100)*db.shape[0] +1)\n",
    "mod_db = db.dropna(axis=1, thresh=min_count)\n",
    "print(\"Modified Dataframe Columns: \")\n",
    "mod_db.columns.tolist()"
   ]
  },
  {
   "cell_type": "code",
   "execution_count": 16,
   "id": "968d04e3-1ef0-4763-9085-9f5dbea01ec5",
   "metadata": {},
   "outputs": [
    {
     "data": {
      "text/html": [
       "<div>\n",
       "<style scoped>\n",
       "    .dataframe tbody tr th:only-of-type {\n",
       "        vertical-align: middle;\n",
       "    }\n",
       "\n",
       "    .dataframe tbody tr th {\n",
       "        vertical-align: top;\n",
       "    }\n",
       "\n",
       "    .dataframe thead th {\n",
       "        text-align: right;\n",
       "    }\n",
       "</style>\n",
       "<table border=\"1\" class=\"dataframe\">\n",
       "  <thead>\n",
       "    <tr style=\"text-align: right;\">\n",
       "      <th></th>\n",
       "      <th>Bearer Id</th>\n",
       "      <th>Start</th>\n",
       "      <th>Start ms</th>\n",
       "      <th>End</th>\n",
       "      <th>End ms</th>\n",
       "      <th>Dur. (ms)</th>\n",
       "      <th>IMSI</th>\n",
       "      <th>MSISDN/Number</th>\n",
       "      <th>IMEI</th>\n",
       "      <th>Last Location Name</th>\n",
       "      <th>...</th>\n",
       "      <th>Youtube DL (Bytes)</th>\n",
       "      <th>Youtube UL (Bytes)</th>\n",
       "      <th>Netflix DL (Bytes)</th>\n",
       "      <th>Netflix UL (Bytes)</th>\n",
       "      <th>Gaming DL (Bytes)</th>\n",
       "      <th>Gaming UL (Bytes)</th>\n",
       "      <th>Other DL (Bytes)</th>\n",
       "      <th>Other UL (Bytes)</th>\n",
       "      <th>Total UL (Bytes)</th>\n",
       "      <th>Total DL (Bytes)</th>\n",
       "    </tr>\n",
       "  </thead>\n",
       "  <tbody>\n",
       "    <tr>\n",
       "      <th>0</th>\n",
       "      <td>1.311450e+19</td>\n",
       "      <td>4/4/2019 12:01</td>\n",
       "      <td>770.0</td>\n",
       "      <td>4/25/2019 14:35</td>\n",
       "      <td>662.0</td>\n",
       "      <td>1823652.0</td>\n",
       "      <td>2.082010e+14</td>\n",
       "      <td>3.366496e+10</td>\n",
       "      <td>3.552120e+13</td>\n",
       "      <td>9.16457E+15</td>\n",
       "      <td>...</td>\n",
       "      <td>15854611.0</td>\n",
       "      <td>2501332.0</td>\n",
       "      <td>8198936.0</td>\n",
       "      <td>9656251.0</td>\n",
       "      <td>278082303.0</td>\n",
       "      <td>14344150.0</td>\n",
       "      <td>171744450.0</td>\n",
       "      <td>8814393.0</td>\n",
       "      <td>36749741.0</td>\n",
       "      <td>308879636.0</td>\n",
       "    </tr>\n",
       "    <tr>\n",
       "      <th>1</th>\n",
       "      <td>1.311450e+19</td>\n",
       "      <td>4/9/2019 13:04</td>\n",
       "      <td>235.0</td>\n",
       "      <td>4/25/2019 8:15</td>\n",
       "      <td>606.0</td>\n",
       "      <td>1365104.0</td>\n",
       "      <td>2.082020e+14</td>\n",
       "      <td>3.368185e+10</td>\n",
       "      <td>3.579400e+13</td>\n",
       "      <td>L77566A</td>\n",
       "      <td>...</td>\n",
       "      <td>20247395.0</td>\n",
       "      <td>19111729.0</td>\n",
       "      <td>18338413.0</td>\n",
       "      <td>17227132.0</td>\n",
       "      <td>608750074.0</td>\n",
       "      <td>1170709.0</td>\n",
       "      <td>526904238.0</td>\n",
       "      <td>15055145.0</td>\n",
       "      <td>53800391.0</td>\n",
       "      <td>653384965.0</td>\n",
       "    </tr>\n",
       "    <tr>\n",
       "      <th>2</th>\n",
       "      <td>1.311450e+19</td>\n",
       "      <td>4/9/2019 17:42</td>\n",
       "      <td>1.0</td>\n",
       "      <td>4/25/2019 11:58</td>\n",
       "      <td>652.0</td>\n",
       "      <td>1361762.0</td>\n",
       "      <td>2.082000e+14</td>\n",
       "      <td>3.376063e+10</td>\n",
       "      <td>3.528150e+13</td>\n",
       "      <td>D42335A</td>\n",
       "      <td>...</td>\n",
       "      <td>19725661.0</td>\n",
       "      <td>14699576.0</td>\n",
       "      <td>17587794.0</td>\n",
       "      <td>6163408.0</td>\n",
       "      <td>229584621.0</td>\n",
       "      <td>395630.0</td>\n",
       "      <td>410692588.0</td>\n",
       "      <td>4215763.0</td>\n",
       "      <td>27883638.0</td>\n",
       "      <td>279807335.0</td>\n",
       "    </tr>\n",
       "    <tr>\n",
       "      <th>3</th>\n",
       "      <td>1.311450e+19</td>\n",
       "      <td>4/10/2019 0:31</td>\n",
       "      <td>486.0</td>\n",
       "      <td>4/25/2019 7:36</td>\n",
       "      <td>171.0</td>\n",
       "      <td>1321509.0</td>\n",
       "      <td>2.082010e+14</td>\n",
       "      <td>3.375034e+10</td>\n",
       "      <td>3.535660e+13</td>\n",
       "      <td>T21824A</td>\n",
       "      <td>...</td>\n",
       "      <td>21388122.0</td>\n",
       "      <td>15146643.0</td>\n",
       "      <td>13994646.0</td>\n",
       "      <td>1097942.0</td>\n",
       "      <td>799538153.0</td>\n",
       "      <td>10849722.0</td>\n",
       "      <td>749039933.0</td>\n",
       "      <td>12797283.0</td>\n",
       "      <td>43324218.0</td>\n",
       "      <td>846028530.0</td>\n",
       "    </tr>\n",
       "    <tr>\n",
       "      <th>4</th>\n",
       "      <td>1.311450e+19</td>\n",
       "      <td>4/12/2019 20:10</td>\n",
       "      <td>565.0</td>\n",
       "      <td>4/25/2019 10:40</td>\n",
       "      <td>954.0</td>\n",
       "      <td>1089009.0</td>\n",
       "      <td>2.082010e+14</td>\n",
       "      <td>3.369980e+10</td>\n",
       "      <td>3.540700e+13</td>\n",
       "      <td>D88865A</td>\n",
       "      <td>...</td>\n",
       "      <td>15259380.0</td>\n",
       "      <td>18962873.0</td>\n",
       "      <td>17124581.0</td>\n",
       "      <td>415218.0</td>\n",
       "      <td>527707248.0</td>\n",
       "      <td>3529801.0</td>\n",
       "      <td>550709500.0</td>\n",
       "      <td>13910322.0</td>\n",
       "      <td>38542814.0</td>\n",
       "      <td>569138589.0</td>\n",
       "    </tr>\n",
       "  </tbody>\n",
       "</table>\n",
       "<p>5 rows × 45 columns</p>\n",
       "</div>"
      ],
      "text/plain": [
       "      Bearer Id            Start  Start ms              End  End ms  \\\n",
       "0  1.311450e+19   4/4/2019 12:01     770.0  4/25/2019 14:35   662.0   \n",
       "1  1.311450e+19   4/9/2019 13:04     235.0   4/25/2019 8:15   606.0   \n",
       "2  1.311450e+19   4/9/2019 17:42       1.0  4/25/2019 11:58   652.0   \n",
       "3  1.311450e+19   4/10/2019 0:31     486.0   4/25/2019 7:36   171.0   \n",
       "4  1.311450e+19  4/12/2019 20:10     565.0  4/25/2019 10:40   954.0   \n",
       "\n",
       "   Dur. (ms)          IMSI  MSISDN/Number          IMEI Last Location Name  \\\n",
       "0  1823652.0  2.082010e+14   3.366496e+10  3.552120e+13        9.16457E+15   \n",
       "1  1365104.0  2.082020e+14   3.368185e+10  3.579400e+13            L77566A   \n",
       "2  1361762.0  2.082000e+14   3.376063e+10  3.528150e+13            D42335A   \n",
       "3  1321509.0  2.082010e+14   3.375034e+10  3.535660e+13            T21824A   \n",
       "4  1089009.0  2.082010e+14   3.369980e+10  3.540700e+13            D88865A   \n",
       "\n",
       "   ...  Youtube DL (Bytes)  Youtube UL (Bytes)  Netflix DL (Bytes)  \\\n",
       "0  ...          15854611.0           2501332.0           8198936.0   \n",
       "1  ...          20247395.0          19111729.0          18338413.0   \n",
       "2  ...          19725661.0          14699576.0          17587794.0   \n",
       "3  ...          21388122.0          15146643.0          13994646.0   \n",
       "4  ...          15259380.0          18962873.0          17124581.0   \n",
       "\n",
       "   Netflix UL (Bytes)  Gaming DL (Bytes)  Gaming UL (Bytes)  Other DL (Bytes)  \\\n",
       "0           9656251.0        278082303.0         14344150.0       171744450.0   \n",
       "1          17227132.0        608750074.0          1170709.0       526904238.0   \n",
       "2           6163408.0        229584621.0           395630.0       410692588.0   \n",
       "3           1097942.0        799538153.0         10849722.0       749039933.0   \n",
       "4            415218.0        527707248.0          3529801.0       550709500.0   \n",
       "\n",
       "   Other UL (Bytes)  Total UL (Bytes)  Total DL (Bytes)  \n",
       "0         8814393.0        36749741.0       308879636.0  \n",
       "1        15055145.0        53800391.0       653384965.0  \n",
       "2         4215763.0        27883638.0       279807335.0  \n",
       "3        12797283.0        43324218.0       846028530.0  \n",
       "4        13910322.0        38542814.0       569138589.0  \n",
       "\n",
       "[5 rows x 45 columns]"
      ]
     },
     "execution_count": 16,
     "metadata": {},
     "output_type": "execute_result"
    }
   ],
   "source": [
    "import warnings\n",
    "\n",
    "with warnings.catch_warnings(record=True):\n",
    "#store object type columns and numberic type columns in different lists\n",
    "    modified = clean_data.handle_missing_values(db)\n",
    "    filled = clean_data.fill_missing_values(modified)\n",
    "filled.head(5)"
   ]
  },
  {
   "cell_type": "code",
   "execution_count": 17,
   "id": "f62af16c-e7db-4376-b078-bf2132a84d9a",
   "metadata": {},
   "outputs": [
    {
     "name": "stdout",
     "output_type": "stream",
     "text": [
      "                                percent_missing\n",
      "Bearer Id                                   0.0\n",
      "Start                                       0.0\n",
      "Start ms                                    0.0\n",
      "End                                         0.0\n",
      "End ms                                      0.0\n",
      "Dur. (ms)                                   0.0\n",
      "IMSI                                        0.0\n",
      "MSISDN/Number                               0.0\n",
      "IMEI                                        0.0\n",
      "Last Location Name                          0.0\n",
      "Avg RTT DL (ms)                             0.0\n",
      "Avg RTT UL (ms)                             0.0\n",
      "Avg Bearer TP DL (kbps)                     0.0\n",
      "Avg Bearer TP UL (kbps)                     0.0\n",
      "DL TP < 50 Kbps (%)                         0.0\n",
      "50 Kbps < DL TP < 250 Kbps (%)              0.0\n",
      "250 Kbps < DL TP < 1 Mbps (%)               0.0\n",
      "DL TP > 1 Mbps (%)                          0.0\n",
      "UL TP < 10 Kbps (%)                         0.0\n",
      "10 Kbps < UL TP < 50 Kbps (%)               0.0\n",
      "50 Kbps < UL TP < 300 Kbps (%)              0.0\n",
      "UL TP > 300 Kbps (%)                        0.0\n",
      "Activity Duration DL (ms)                   0.0\n",
      "Activity Duration UL (ms)                   0.0\n",
      "Dur. (ms).1                                 0.0\n",
      "Handset Manufacturer                        0.0\n",
      "Handset Type                                0.0\n",
      "Nb of sec with Vol DL < 6250B               0.0\n",
      "Nb of sec with Vol UL < 1250B               0.0\n",
      "Social Media DL (Bytes)                     0.0\n",
      "Social Media UL (Bytes)                     0.0\n",
      "Google DL (Bytes)                           0.0\n",
      "Google UL (Bytes)                           0.0\n",
      "Email DL (Bytes)                            0.0\n",
      "Email UL (Bytes)                            0.0\n",
      "Youtube DL (Bytes)                          0.0\n",
      "Youtube UL (Bytes)                          0.0\n",
      "Netflix DL (Bytes)                          0.0\n",
      "Netflix UL (Bytes)                          0.0\n",
      "Gaming DL (Bytes)                           0.0\n",
      "Gaming UL (Bytes)                           0.0\n",
      "Other DL (Bytes)                            0.0\n",
      "Other UL (Bytes)                            0.0\n",
      "Total UL (Bytes)                            0.0\n",
      "Total DL (Bytes)                            0.0\n"
     ]
    }
   ],
   "source": [
    "#after removing above 30% null values and fill null values for object types and numeric types\n",
    "percent_missing = filled.isnull().sum() * 100 / len(filled)\n",
    "missing_value_db = pd.DataFrame({'percent_missing': percent_missing})\n",
    "print(missing_value_db)"
   ]
  },
  {
   "cell_type": "code",
   "execution_count": 18,
   "id": "c4b06596-35ec-4fcc-a4f5-d47e682998b4",
   "metadata": {},
   "outputs": [
    {
     "name": "stdout",
     "output_type": "stream",
     "text": [
      "\n",
      "TOP TEN HANDSETS USED BY CUSTOMERS\n",
      "\n"
     ]
    },
    {
     "data": {
      "text/html": [
       "<div>\n",
       "<style scoped>\n",
       "    .dataframe tbody tr th:only-of-type {\n",
       "        vertical-align: middle;\n",
       "    }\n",
       "\n",
       "    .dataframe tbody tr th {\n",
       "        vertical-align: top;\n",
       "    }\n",
       "\n",
       "    .dataframe thead th {\n",
       "        text-align: right;\n",
       "    }\n",
       "</style>\n",
       "<table border=\"1\" class=\"dataframe\">\n",
       "  <thead>\n",
       "    <tr style=\"text-align: right;\">\n",
       "      <th></th>\n",
       "      <th>Handset Type</th>\n",
       "      <th>number of users</th>\n",
       "    </tr>\n",
       "  </thead>\n",
       "  <tbody>\n",
       "    <tr>\n",
       "      <th>316</th>\n",
       "      <td>Huawei B528S-23A</td>\n",
       "      <td>20324</td>\n",
       "    </tr>\n",
       "    <tr>\n",
       "      <th>53</th>\n",
       "      <td>Apple iPhone 6S (A1688)</td>\n",
       "      <td>9419</td>\n",
       "    </tr>\n",
       "    <tr>\n",
       "      <th>49</th>\n",
       "      <td>Apple iPhone 6 (A1586)</td>\n",
       "      <td>9023</td>\n",
       "    </tr>\n",
       "    <tr>\n",
       "      <th>1395</th>\n",
       "      <td>undefined</td>\n",
       "      <td>8987</td>\n",
       "    </tr>\n",
       "    <tr>\n",
       "      <th>59</th>\n",
       "      <td>Apple iPhone 7 (A1778)</td>\n",
       "      <td>6326</td>\n",
       "    </tr>\n",
       "    <tr>\n",
       "      <th>73</th>\n",
       "      <td>Apple iPhone Se (A1723)</td>\n",
       "      <td>5187</td>\n",
       "    </tr>\n",
       "    <tr>\n",
       "      <th>66</th>\n",
       "      <td>Apple iPhone 8 (A1905)</td>\n",
       "      <td>4993</td>\n",
       "    </tr>\n",
       "    <tr>\n",
       "      <th>78</th>\n",
       "      <td>Apple iPhone Xr (A2105)</td>\n",
       "      <td>4568</td>\n",
       "    </tr>\n",
       "    <tr>\n",
       "      <th>955</th>\n",
       "      <td>Samsung Galaxy S8 (Sm-G950F)</td>\n",
       "      <td>4520</td>\n",
       "    </tr>\n",
       "    <tr>\n",
       "      <th>75</th>\n",
       "      <td>Apple iPhone X (A1901)</td>\n",
       "      <td>3813</td>\n",
       "    </tr>\n",
       "  </tbody>\n",
       "</table>\n",
       "</div>"
      ],
      "text/plain": [
       "                      Handset Type  number of users\n",
       "316               Huawei B528S-23A            20324\n",
       "53         Apple iPhone 6S (A1688)             9419\n",
       "49          Apple iPhone 6 (A1586)             9023\n",
       "1395                     undefined             8987\n",
       "59          Apple iPhone 7 (A1778)             6326\n",
       "73         Apple iPhone Se (A1723)             5187\n",
       "66          Apple iPhone 8 (A1905)             4993\n",
       "78         Apple iPhone Xr (A2105)             4568\n",
       "955   Samsung Galaxy S8 (Sm-G950F)             4520\n",
       "75          Apple iPhone X (A1901)             3813"
      ]
     },
     "execution_count": 18,
     "metadata": {},
     "output_type": "execute_result"
    }
   ],
   "source": [
    "mod_db_handsets = pd.DataFrame({'number of users':filled.groupby(['Handset Type'])['Bearer Id'].count()}).reset_index()\n",
    "mod_db_handsets = mod_db_handsets.sort_values(['number of users'],ascending=False)\n",
    "print(\"\\nTOP TEN HANDSETS USED BY CUSTOMERS\\n\")\n",
    "mod_db_handsets.head(10)"
   ]
  },
  {
   "cell_type": "code",
   "execution_count": 19,
   "id": "07567c0f-5807-4f3b-96c3-d2f73d93ce9e",
   "metadata": {},
   "outputs": [
    {
     "data": {
      "text/plain": [
       "(150001, 45)"
      ]
     },
     "execution_count": 19,
     "metadata": {},
     "output_type": "execute_result"
    }
   ],
   "source": [
    "filled.shape"
   ]
  },
  {
   "cell_type": "code",
   "execution_count": 20,
   "id": "47b7da91-b541-4d75-bc88-73c5c967fb60",
   "metadata": {},
   "outputs": [
    {
     "name": "stdout",
     "output_type": "stream",
     "text": [
      "\n",
      "TOP THREE HANDSET MANUFACTURERES\n",
      "\n"
     ]
    },
    {
     "data": {
      "text/html": [
       "<div>\n",
       "<style scoped>\n",
       "    .dataframe tbody tr th:only-of-type {\n",
       "        vertical-align: middle;\n",
       "    }\n",
       "\n",
       "    .dataframe tbody tr th {\n",
       "        vertical-align: top;\n",
       "    }\n",
       "\n",
       "    .dataframe thead th {\n",
       "        text-align: right;\n",
       "    }\n",
       "</style>\n",
       "<table border=\"1\" class=\"dataframe\">\n",
       "  <thead>\n",
       "    <tr style=\"text-align: right;\">\n",
       "      <th></th>\n",
       "      <th>index</th>\n",
       "      <th>Handset Manufacturer</th>\n",
       "      <th>handsets manufactured</th>\n",
       "    </tr>\n",
       "  </thead>\n",
       "  <tbody>\n",
       "    <tr>\n",
       "      <th>0</th>\n",
       "      <td>5</td>\n",
       "      <td>Apple</td>\n",
       "      <td>60137</td>\n",
       "    </tr>\n",
       "    <tr>\n",
       "      <th>1</th>\n",
       "      <td>103</td>\n",
       "      <td>Samsung</td>\n",
       "      <td>40839</td>\n",
       "    </tr>\n",
       "    <tr>\n",
       "      <th>2</th>\n",
       "      <td>52</td>\n",
       "      <td>Huawei</td>\n",
       "      <td>34423</td>\n",
       "    </tr>\n",
       "  </tbody>\n",
       "</table>\n",
       "</div>"
      ],
      "text/plain": [
       "   index Handset Manufacturer  handsets manufactured\n",
       "0      5                Apple                  60137\n",
       "1    103              Samsung                  40839\n",
       "2     52               Huawei                  34423"
      ]
     },
     "execution_count": 20,
     "metadata": {},
     "output_type": "execute_result"
    }
   ],
   "source": [
    "#top 3 handset manufacturers\n",
    "mod_db_handset_manf = pd.DataFrame({'handsets manufactured':filled.groupby(['Handset Manufacturer'])['Bearer Id'].count()}).reset_index()\n",
    "mod_db_handset_manf = mod_db_handset_manf.sort_values(['handsets manufactured'],ascending=False).reset_index()\n",
    "print('\\nTOP THREE HANDSET MANUFACTURERES\\n')\n",
    "mod_db_handset_manf.head(3)"
   ]
  },
  {
   "cell_type": "code",
   "execution_count": 21,
   "id": "41580cb8-0c9c-460e-abca-2742f33d9f10",
   "metadata": {},
   "outputs": [
    {
     "name": "stdout",
     "output_type": "stream",
     "text": [
      "\n",
      "TOP FIVE HANDSETS FROM APPLE\n",
      "\n",
      "                      Handset Type     Bearer Id\n",
      "85228  Apple iPhone 6 Plus (A1524)  1.318650e+19\n",
      "92010      Apple iPhone 6S (A1688)  1.318650e+19\n",
      "8452        Apple iPhone 8 (A1905)  1.318650e+19\n",
      "57870      Apple iPhone 6S (A1688)  1.318650e+19\n",
      "24695       Apple iPhone 6 (A1549)  1.318650e+19 \n",
      "\n",
      "\n",
      "\n",
      "TOP FIVE HANDSETS FROM SUNMSUNG\n",
      "\n",
      "                        Handset Type     Bearer Id\n",
      "117816  Samsung Galaxy S7 (Sm-G930X)  1.318650e+19\n",
      "22779       Samsung Galaxy A8 (2018)  1.318650e+19\n",
      "19847     Samsung Galaxy A5 Sm-A520F  1.318650e+19\n",
      "24249    Samsung Galaxy J3 (Sm-J330)  1.318650e+19\n",
      "15141   Samsung Galaxy S8 (Sm-G950F)  1.318650e+19 \n",
      "\n",
      "\n",
      "\n",
      "TOP FIVE HANDSETS FROM HUAWEI\n",
      "\n",
      "            Handset Type     Bearer Id\n",
      "3651    Huawei B525S-23A  1.318650e+19\n",
      "61439   Huawei B525S-23A  1.318650e+19\n",
      "121426  Huawei B525S-23A  1.318650e+19\n",
      "11585     Huawei Fig-Lx1  1.318650e+19\n",
      "117132  Huawei B525S-23A  1.318650e+19\n"
     ]
    }
   ],
   "source": [
    "#top 5 handsets per top 3 handset manufacturer\n",
    "# df_handset_manf[df_handset_manf[\"Handset Manufacturer\"] == \"Apple\"]\n",
    "mod_db_handset_apple = filled.groupby(['Handset Manufacturer']).get_group('Apple')[[\"Handset Type\",\"Bearer Id\"]].sort_values(by=\"Bearer Id\",ascending=False)\n",
    "mod_db_handset_samsung = filled.groupby(['Handset Manufacturer']).get_group('Samsung')[[\"Handset Type\",\"Bearer Id\"]].sort_values(by=\"Bearer Id\",ascending=False)\n",
    "mod_db_handset_huawei= filled.groupby(['Handset Manufacturer']).get_group('Huawei')[[\"Handset Type\",\"Bearer Id\"]].sort_values(by=\"Bearer Id\",ascending=False)\n",
    "print(\"\\nTOP FIVE HANDSETS FROM APPLE\\n\")\n",
    "print(mod_db_handset_apple.head(5),\"\\n\\n\")\n",
    "print(\"\\nTOP FIVE HANDSETS FROM SUNMSUNG\\n\")\n",
    "print(mod_db_handset_samsung.head(5),\"\\n\\n\")\n",
    "print(\"\\nTOP FIVE HANDSETS FROM HUAWEI\\n\")\n",
    "print(mod_db_handset_huawei.head(5))"
   ]
  },
  {
   "cell_type": "markdown",
   "id": "3f3b80a6",
   "metadata": {},
   "source": [
    "## User Overview Analysis"
   ]
  },
  {
   "cell_type": "code",
   "execution_count": 22,
   "id": "da4dab37-6fd2-4a62-a7a7-8d756ccd2bee",
   "metadata": {},
   "outputs": [
    {
     "name": "stdout",
     "output_type": "stream",
     "text": [
      "\n",
      "XDR SESSIONS PER USEr FOR THE FIRST TEN MSISDN/Number\n",
      "\n",
      "          MSISDN/Number  Number of session per user\n",
      "13526 33,626,320,676.00                          18\n",
      "13180 33,625,779,332.00                          17\n",
      "6437  33,614,892,860.00                          17\n",
      "37052 33,659,725,664.00                          16\n",
      "92923 33,760,536,639.00                          15\n",
      "76363 33,675,877,202.00                          15\n",
      "65118 33,667,163,239.00                          13\n",
      "13994 33,627,080,969.00                          12\n",
      "1279  33,604,515,716.00                          12\n",
      "92577 33,760,413,819.00                          12\n"
     ]
    }
   ],
   "source": [
    "#the number of xdr session per user\n",
    "import utilise\n",
    "print(\"\\nXDR SESSIONS PER USEr FOR THE FIRST TEN MSISDN/Number\\n\")\n",
    "no_sessions = utilise.find_agg(db, 'MSISDN/Number', 'count', \"Number of session per user\", 10)\n",
    "print(no_sessions.head(10))"
   ]
  },
  {
   "cell_type": "code",
   "execution_count": 23,
   "id": "7170f2db",
   "metadata": {},
   "outputs": [
    {
     "name": "stdout",
     "output_type": "stream",
     "text": [
      "\n",
      "SESSION DURATION FOR THE FIRST TEN MSISDN/Number\n"
     ]
    },
    {
     "data": {
      "text/html": [
       "<div>\n",
       "<style scoped>\n",
       "    .dataframe tbody tr th:only-of-type {\n",
       "        vertical-align: middle;\n",
       "    }\n",
       "\n",
       "    .dataframe tbody tr th {\n",
       "        vertical-align: top;\n",
       "    }\n",
       "\n",
       "    .dataframe thead th {\n",
       "        text-align: right;\n",
       "    }\n",
       "</style>\n",
       "<table border=\"1\" class=\"dataframe\">\n",
       "  <thead>\n",
       "    <tr style=\"text-align: right;\">\n",
       "      <th></th>\n",
       "      <th>MSISDN/Number</th>\n",
       "      <th>Dur. (ms)</th>\n",
       "    </tr>\n",
       "  </thead>\n",
       "  <tbody>\n",
       "    <tr>\n",
       "      <th>0</th>\n",
       "      <td>33,601,001,722.00</td>\n",
       "      <td>116,720.00</td>\n",
       "    </tr>\n",
       "    <tr>\n",
       "      <th>1</th>\n",
       "      <td>33,601,001,754.00</td>\n",
       "      <td>181,230.00</td>\n",
       "    </tr>\n",
       "    <tr>\n",
       "      <th>2</th>\n",
       "      <td>33,601,002,511.00</td>\n",
       "      <td>134,969.00</td>\n",
       "    </tr>\n",
       "    <tr>\n",
       "      <th>3</th>\n",
       "      <td>33,601,007,832.00</td>\n",
       "      <td>49,878.00</td>\n",
       "    </tr>\n",
       "    <tr>\n",
       "      <th>4</th>\n",
       "      <td>33,601,008,617.00</td>\n",
       "      <td>37,104.00</td>\n",
       "    </tr>\n",
       "    <tr>\n",
       "      <th>5</th>\n",
       "      <td>33,601,010,682.00</td>\n",
       "      <td>253,983.00</td>\n",
       "    </tr>\n",
       "    <tr>\n",
       "      <th>6</th>\n",
       "      <td>33,601,011,634.00</td>\n",
       "      <td>128,360.00</td>\n",
       "    </tr>\n",
       "    <tr>\n",
       "      <th>7</th>\n",
       "      <td>33,601,011,959.00</td>\n",
       "      <td>86,399.00</td>\n",
       "    </tr>\n",
       "    <tr>\n",
       "      <th>8</th>\n",
       "      <td>33,601,014,694.00</td>\n",
       "      <td>495,702.00</td>\n",
       "    </tr>\n",
       "    <tr>\n",
       "      <th>9</th>\n",
       "      <td>33,601,020,306.00</td>\n",
       "      <td>124,854.00</td>\n",
       "    </tr>\n",
       "  </tbody>\n",
       "</table>\n",
       "</div>"
      ],
      "text/plain": [
       "      MSISDN/Number  Dur. (ms)\n",
       "0 33,601,001,722.00 116,720.00\n",
       "1 33,601,001,754.00 181,230.00\n",
       "2 33,601,002,511.00 134,969.00\n",
       "3 33,601,007,832.00  49,878.00\n",
       "4 33,601,008,617.00  37,104.00\n",
       "5 33,601,010,682.00 253,983.00\n",
       "6 33,601,011,634.00 128,360.00\n",
       "7 33,601,011,959.00  86,399.00\n",
       "8 33,601,014,694.00 495,702.00\n",
       "9 33,601,020,306.00 124,854.00"
      ]
     },
     "execution_count": 23,
     "metadata": {},
     "output_type": "execute_result"
    }
   ],
   "source": [
    "#ession duration per user\n",
    "sess_dur = filled.groupby('MSISDN/Number').agg({'Dur. (ms)':'sum',}).reset_index()\n",
    "print('\\nSESSION DURATION FOR THE FIRST TEN MSISDN/Number')\n",
    "sess_dur.head(10)"
   ]
  },
  {
   "cell_type": "code",
   "execution_count": 24,
   "id": "a480f2d6",
   "metadata": {},
   "outputs": [
    {
     "name": "stdout",
     "output_type": "stream",
     "text": [
      "\n",
      "TOTAL UPLOAD AND DOWNLOAD DATA FOR THE TOP TEN MSISDN/Number\n"
     ]
    },
    {
     "data": {
      "text/html": [
       "<div>\n",
       "<style scoped>\n",
       "    .dataframe tbody tr th:only-of-type {\n",
       "        vertical-align: middle;\n",
       "    }\n",
       "\n",
       "    .dataframe tbody tr th {\n",
       "        vertical-align: top;\n",
       "    }\n",
       "\n",
       "    .dataframe thead th {\n",
       "        text-align: right;\n",
       "    }\n",
       "</style>\n",
       "<table border=\"1\" class=\"dataframe\">\n",
       "  <thead>\n",
       "    <tr style=\"text-align: right;\">\n",
       "      <th></th>\n",
       "      <th>MSISDN/Number</th>\n",
       "      <th>Total(UL/DL)</th>\n",
       "    </tr>\n",
       "  </thead>\n",
       "  <tbody>\n",
       "    <tr>\n",
       "      <th>0</th>\n",
       "      <td>33,601,001,722.00</td>\n",
       "      <td>878,690,574.00</td>\n",
       "    </tr>\n",
       "    <tr>\n",
       "      <th>1</th>\n",
       "      <td>33,601,001,754.00</td>\n",
       "      <td>156,859,643.00</td>\n",
       "    </tr>\n",
       "    <tr>\n",
       "      <th>2</th>\n",
       "      <td>33,601,002,511.00</td>\n",
       "      <td>595,966,483.00</td>\n",
       "    </tr>\n",
       "    <tr>\n",
       "      <th>3</th>\n",
       "      <td>33,601,007,832.00</td>\n",
       "      <td>422,320,698.00</td>\n",
       "    </tr>\n",
       "    <tr>\n",
       "      <th>4</th>\n",
       "      <td>33,601,008,617.00</td>\n",
       "      <td>1,457,410,944.00</td>\n",
       "    </tr>\n",
       "    <tr>\n",
       "      <th>5</th>\n",
       "      <td>33,601,010,682.00</td>\n",
       "      <td>615,217,221.00</td>\n",
       "    </tr>\n",
       "    <tr>\n",
       "      <th>6</th>\n",
       "      <td>33,601,011,634.00</td>\n",
       "      <td>654,723,066.00</td>\n",
       "    </tr>\n",
       "    <tr>\n",
       "      <th>7</th>\n",
       "      <td>33,601,011,959.00</td>\n",
       "      <td>332,660,357.00</td>\n",
       "    </tr>\n",
       "    <tr>\n",
       "      <th>8</th>\n",
       "      <td>33,601,014,694.00</td>\n",
       "      <td>990,132,189.00</td>\n",
       "    </tr>\n",
       "    <tr>\n",
       "      <th>9</th>\n",
       "      <td>33,601,020,306.00</td>\n",
       "      <td>732,463,761.00</td>\n",
       "    </tr>\n",
       "  </tbody>\n",
       "</table>\n",
       "</div>"
      ],
      "text/plain": [
       "      MSISDN/Number     Total(UL/DL)\n",
       "0 33,601,001,722.00   878,690,574.00\n",
       "1 33,601,001,754.00   156,859,643.00\n",
       "2 33,601,002,511.00   595,966,483.00\n",
       "3 33,601,007,832.00   422,320,698.00\n",
       "4 33,601,008,617.00 1,457,410,944.00\n",
       "5 33,601,010,682.00   615,217,221.00\n",
       "6 33,601,011,634.00   654,723,066.00\n",
       "7 33,601,011,959.00   332,660,357.00\n",
       "8 33,601,014,694.00   990,132,189.00\n",
       "9 33,601,020,306.00   732,463,761.00"
      ]
     },
     "execution_count": 24,
     "metadata": {},
     "output_type": "execute_result"
    }
   ],
   "source": [
    "#total count of upload and download\n",
    "with warnings.catch_warnings(record=True):\n",
    "    filled['Total(UL/DL)'] = filled['Total UL (Bytes)'] + filled['Total DL (Bytes)']\n",
    "sess_dur = filled.groupby('MSISDN/Number').agg({'Total(UL/DL)':'sum',}).reset_index()\n",
    "print('\\nTOTAL UPLOAD AND DOWNLOAD DATA FOR THE TOP TEN MSISDN/Number')\n",
    "sess_dur.head(10)\n"
   ]
  },
  {
   "cell_type": "code",
   "execution_count": 25,
   "id": "4cd5804f",
   "metadata": {},
   "outputs": [
    {
     "name": "stdout",
     "output_type": "stream",
     "text": [
      "\t FOR THE TOP TEN MSISDN/Number THE TOTAL DATA VOLUME(IN BYTES) FOR EACH APPLICATION\n"
     ]
    },
    {
     "data": {
      "text/html": [
       "<div>\n",
       "<style scoped>\n",
       "    .dataframe tbody tr th:only-of-type {\n",
       "        vertical-align: middle;\n",
       "    }\n",
       "\n",
       "    .dataframe tbody tr th {\n",
       "        vertical-align: top;\n",
       "    }\n",
       "\n",
       "    .dataframe thead th {\n",
       "        text-align: right;\n",
       "    }\n",
       "</style>\n",
       "<table border=\"1\" class=\"dataframe\">\n",
       "  <thead>\n",
       "    <tr style=\"text-align: right;\">\n",
       "      <th></th>\n",
       "      <th>MSISDN/Number</th>\n",
       "      <th>Social Media(UL/DL)</th>\n",
       "      <th>Google(UL/DL)</th>\n",
       "      <th>Email(UL/DL)</th>\n",
       "      <th>Youtube(UL/DL)</th>\n",
       "      <th>Netflix(UL/DL)</th>\n",
       "      <th>Gaming(UL/DL)</th>\n",
       "      <th>Other(UL/DL)</th>\n",
       "    </tr>\n",
       "  </thead>\n",
       "  <tbody>\n",
       "    <tr>\n",
       "      <th>0</th>\n",
       "      <td>33,601,001,722.00</td>\n",
       "      <td>2.23</td>\n",
       "      <td>4.39</td>\n",
       "      <td>1.33</td>\n",
       "      <td>21.62</td>\n",
       "      <td>27.18</td>\n",
       "      <td>812.46</td>\n",
       "      <td>386.57</td>\n",
       "    </tr>\n",
       "    <tr>\n",
       "      <th>1</th>\n",
       "      <td>33,601,001,754.00</td>\n",
       "      <td>2.66</td>\n",
       "      <td>5.33</td>\n",
       "      <td>3.31</td>\n",
       "      <td>12.43</td>\n",
       "      <td>11.22</td>\n",
       "      <td>119.75</td>\n",
       "      <td>281.71</td>\n",
       "    </tr>\n",
       "    <tr>\n",
       "      <th>2</th>\n",
       "      <td>33,601,002,511.00</td>\n",
       "      <td>3.20</td>\n",
       "      <td>3.44</td>\n",
       "      <td>3.21</td>\n",
       "      <td>21.33</td>\n",
       "      <td>19.35</td>\n",
       "      <td>538.83</td>\n",
       "      <td>501.69</td>\n",
       "    </tr>\n",
       "    <tr>\n",
       "      <th>3</th>\n",
       "      <td>33,601,007,832.00</td>\n",
       "      <td>0.28</td>\n",
       "      <td>9.68</td>\n",
       "      <td>2.28</td>\n",
       "      <td>6.98</td>\n",
       "      <td>1.94</td>\n",
       "      <td>391.13</td>\n",
       "      <td>35.28</td>\n",
       "    </tr>\n",
       "    <tr>\n",
       "      <th>4</th>\n",
       "      <td>33,601,008,617.00</td>\n",
       "      <td>2.91</td>\n",
       "      <td>18.50</td>\n",
       "      <td>3.31</td>\n",
       "      <td>41.53</td>\n",
       "      <td>49.20</td>\n",
       "      <td>1,314.80</td>\n",
       "      <td>804.80</td>\n",
       "    </tr>\n",
       "    <tr>\n",
       "      <th>5</th>\n",
       "      <td>33,601,010,682.00</td>\n",
       "      <td>3.79</td>\n",
       "      <td>15.26</td>\n",
       "      <td>7.85</td>\n",
       "      <td>34.35</td>\n",
       "      <td>30.32</td>\n",
       "      <td>511.64</td>\n",
       "      <td>492.37</td>\n",
       "    </tr>\n",
       "    <tr>\n",
       "      <th>6</th>\n",
       "      <td>33,601,011,634.00</td>\n",
       "      <td>2.77</td>\n",
       "      <td>10.20</td>\n",
       "      <td>1.36</td>\n",
       "      <td>26.43</td>\n",
       "      <td>45.81</td>\n",
       "      <td>548.46</td>\n",
       "      <td>224.89</td>\n",
       "    </tr>\n",
       "    <tr>\n",
       "      <th>7</th>\n",
       "      <td>33,601,011,959.00</td>\n",
       "      <td>1.78</td>\n",
       "      <td>12.02</td>\n",
       "      <td>2.22</td>\n",
       "      <td>18.89</td>\n",
       "      <td>15.29</td>\n",
       "      <td>282.36</td>\n",
       "      <td>178.20</td>\n",
       "    </tr>\n",
       "    <tr>\n",
       "      <th>8</th>\n",
       "      <td>33,601,014,694.00</td>\n",
       "      <td>5.29</td>\n",
       "      <td>14.13</td>\n",
       "      <td>4.60</td>\n",
       "      <td>63.44</td>\n",
       "      <td>54.22</td>\n",
       "      <td>833.09</td>\n",
       "      <td>1,041.88</td>\n",
       "    </tr>\n",
       "    <tr>\n",
       "      <th>9</th>\n",
       "      <td>33,601,020,306.00</td>\n",
       "      <td>0.96</td>\n",
       "      <td>12.94</td>\n",
       "      <td>2.78</td>\n",
       "      <td>28.57</td>\n",
       "      <td>35.53</td>\n",
       "      <td>647.10</td>\n",
       "      <td>138.34</td>\n",
       "    </tr>\n",
       "  </tbody>\n",
       "</table>\n",
       "</div>"
      ],
      "text/plain": [
       "      MSISDN/Number  Social Media(UL/DL)  Google(UL/DL)  Email(UL/DL)  \\\n",
       "0 33,601,001,722.00                 2.23           4.39          1.33   \n",
       "1 33,601,001,754.00                 2.66           5.33          3.31   \n",
       "2 33,601,002,511.00                 3.20           3.44          3.21   \n",
       "3 33,601,007,832.00                 0.28           9.68          2.28   \n",
       "4 33,601,008,617.00                 2.91          18.50          3.31   \n",
       "5 33,601,010,682.00                 3.79          15.26          7.85   \n",
       "6 33,601,011,634.00                 2.77          10.20          1.36   \n",
       "7 33,601,011,959.00                 1.78          12.02          2.22   \n",
       "8 33,601,014,694.00                 5.29          14.13          4.60   \n",
       "9 33,601,020,306.00                 0.96          12.94          2.78   \n",
       "\n",
       "   Youtube(UL/DL)  Netflix(UL/DL)  Gaming(UL/DL)  Other(UL/DL)  \n",
       "0           21.62           27.18         812.46        386.57  \n",
       "1           12.43           11.22         119.75        281.71  \n",
       "2           21.33           19.35         538.83        501.69  \n",
       "3            6.98            1.94         391.13         35.28  \n",
       "4           41.53           49.20       1,314.80        804.80  \n",
       "5           34.35           30.32         511.64        492.37  \n",
       "6           26.43           45.81         548.46        224.89  \n",
       "7           18.89           15.29         282.36        178.20  \n",
       "8           63.44           54.22         833.09      1,041.88  \n",
       "9           28.57           35.53         647.10        138.34  "
      ]
     },
     "execution_count": 25,
     "metadata": {},
     "output_type": "execute_result"
    }
   ],
   "source": [
    "with warnings.catch_warnings(record=True):\n",
    "    filled['Social Media(UL/DL)'] = filled['Social Media DL (Bytes)'] + filled['Social Media UL (Bytes)']\n",
    "    filled['Social Media(UL/DL)'] = utilise.convert_bytes_to_megabytes(filled,'Social Media(UL/DL)')\n",
    "    \n",
    "    filled['Google(UL/DL)'] = filled['Google DL (Bytes)'] + filled['Google UL (Bytes)']\n",
    "    filled['Google(UL/DL)'] = utilise.convert_bytes_to_megabytes(filled,'Google(UL/DL)')\n",
    "    \n",
    "    filled['Email(UL/DL)'] = filled['Email DL (Bytes)'] + filled['Email UL (Bytes)']\n",
    "    filled['Email(UL/DL)'] = utilise.convert_bytes_to_megabytes(filled,'Email(UL/DL)')\n",
    "    \n",
    "    filled['Youtube(UL/DL)'] = filled['Youtube DL (Bytes)'] + filled['Youtube UL (Bytes)']\n",
    "    filled['Youtube(UL/DL)'] = utilise.convert_bytes_to_megabytes(filled,'Youtube(UL/DL)')\n",
    "    \n",
    "    filled['Netflix(UL/DL)'] = filled['Netflix DL (Bytes)'] + filled['Netflix UL (Bytes)']\n",
    "    filled['Netflix(UL/DL)'] = utilise.convert_bytes_to_megabytes(filled,'Netflix(UL/DL)')\n",
    "    \n",
    "    filled['Gaming(UL/DL)'] = filled['Gaming DL (Bytes)'] + filled['Gaming UL (Bytes)']\n",
    "    filled['Gaming(UL/DL)'] = utilise.convert_bytes_to_megabytes(filled,'Gaming(UL/DL)')\n",
    "    \n",
    "    filled['Netflix(UL/DL)'] = filled['Netflix DL (Bytes)'] + filled['Netflix UL (Bytes)']\n",
    "    filled['Netflix(UL/DL)'] = utilise.convert_bytes_to_megabytes(filled,'Netflix(UL/DL)')\n",
    "    \n",
    "    filled['Other(UL/DL)'] = filled['Other DL (Bytes)'] + filled['Other UL (Bytes)']\n",
    "    filled['Other(UL/DL)'] = utilise.convert_bytes_to_megabytes(filled,'Other(UL/DL)')\n",
    "    \n",
    "soc_med = filled.groupby('MSISDN/Number').agg({'Social Media(UL/DL)':'sum', 'Google(UL/DL)':'sum',\n",
    "                                               'Email(UL/DL)':'sum', 'Youtube(UL/DL)':'sum', 'Netflix(UL/DL)':'sum',\n",
    "                                              'Gaming(UL/DL)':'sum', 'Other(UL/DL)':'sum'}).reset_index()\n",
    "\n",
    "print('\\t FOR THE TOP TEN MSISDN/Number THE TOTAL DATA VOLUME(IN BYTES) FOR EACH APPLICATION')\n",
    "soc_med.head(10)"
   ]
  },
  {
   "cell_type": "markdown",
   "id": "21f08c27-5f9f-4b06-ae59-548ed93704f7",
   "metadata": {},
   "source": [
    "* NON-GRAPHICAL UNIVARIANT ANALYSIS"
   ]
  },
  {
   "cell_type": "code",
   "execution_count": 26,
   "id": "c575b85a",
   "metadata": {},
   "outputs": [
    {
     "data": {
      "text/plain": [
       "count   150,001.00\n",
       "mean          1.83\n",
       "std           1.04\n",
       "min           0.00\n",
       "25%           0.93\n",
       "50%           1.83\n",
       "75%           2.73\n",
       "max           3.65\n",
       "Name: Social Media(UL/DL), dtype: float64"
      ]
     },
     "execution_count": 26,
     "metadata": {},
     "output_type": "execute_result"
    }
   ],
   "source": [
    "filled['Social Media(UL/DL)'].describe()"
   ]
  },
  {
   "cell_type": "code",
   "execution_count": 27,
   "id": "fc2a6067-444d-4520-b1b0-6a69f3e42e55",
   "metadata": {},
   "outputs": [
    {
     "data": {
      "text/plain": [
       "count   150,001.00\n",
       "mean          7.81\n",
       "std           3.52\n",
       "min           0.04\n",
       "25%           4.94\n",
       "50%           7.81\n",
       "75%          10.68\n",
       "max          15.53\n",
       "Name: Google(UL/DL), dtype: float64"
      ]
     },
     "execution_count": 27,
     "metadata": {},
     "output_type": "execute_result"
    }
   ],
   "source": [
    "filled['Google(UL/DL)'].describe()"
   ]
  },
  {
   "cell_type": "code",
   "execution_count": 28,
   "id": "367ab034-16b1-486d-9843-ee0bc1bbef8c",
   "metadata": {},
   "outputs": [
    {
     "data": {
      "text/plain": [
       "count   150,001.00\n",
       "mean          2.26\n",
       "std           1.07\n",
       "min           0.01\n",
       "25%           1.36\n",
       "50%           2.26\n",
       "75%           3.16\n",
       "max           4.52\n",
       "Name: Email(UL/DL), dtype: float64"
      ]
     },
     "execution_count": 28,
     "metadata": {},
     "output_type": "execute_result"
    }
   ],
   "source": [
    "filled['Email(UL/DL)'].describe()"
   ]
  },
  {
   "cell_type": "code",
   "execution_count": 29,
   "id": "1ad217da-d2a9-4793-b049-c1e90f465b49",
   "metadata": {},
   "outputs": [
    {
     "data": {
      "text/plain": [
       "count   150,001.00\n",
       "mean         22.63\n",
       "std           9.26\n",
       "min           0.10\n",
       "25%          15.98\n",
       "50%          22.64\n",
       "75%          29.29\n",
       "max          45.20\n",
       "Name: Netflix(UL/DL), dtype: float64"
      ]
     },
     "execution_count": 29,
     "metadata": {},
     "output_type": "execute_result"
    }
   ],
   "source": [
    "filled['Netflix(UL/DL)'].describe()"
   ]
  },
  {
   "cell_type": "code",
   "execution_count": 30,
   "id": "1d6d5b16-5015-4df6-86a8-b64327c6f156",
   "metadata": {},
   "outputs": [
    {
     "data": {
      "text/plain": [
       "count   150,001.00\n",
       "mean        430.33\n",
       "std         244.02\n",
       "min           0.31\n",
       "25%         218.73\n",
       "50%         431.61\n",
       "75%         641.42\n",
       "max         859.20\n",
       "Name: Gaming(UL/DL), dtype: float64"
      ]
     },
     "execution_count": 30,
     "metadata": {},
     "output_type": "execute_result"
    }
   ],
   "source": [
    "filled['Gaming(UL/DL)'].describe()"
   ]
  },
  {
   "cell_type": "code",
   "execution_count": 31,
   "id": "88c46e2a-db33-4bff-bc63-5cee2d2e3eb5",
   "metadata": {},
   "outputs": [
    {
     "data": {
      "text/plain": [
       "count   150,001.00\n",
       "mean        429.37\n",
       "std         243.27\n",
       "min           0.15\n",
       "25%         218.55\n",
       "50%         429.99\n",
       "75%         639.93\n",
       "max         859.52\n",
       "Name: Other(UL/DL), dtype: float64"
      ]
     },
     "execution_count": 31,
     "metadata": {},
     "output_type": "execute_result"
    }
   ],
   "source": [
    "filled['Other(UL/DL)'].describe()"
   ]
  },
  {
   "cell_type": "markdown",
   "id": "8f71c063-d2aa-4ba3-86ce-4e18755a4efd",
   "metadata": {},
   "source": [
    "* GRAPHICAL UNIVARIANT ANALYSIS"
   ]
  },
  {
   "cell_type": "code",
   "execution_count": 36,
   "id": "9a6dd45c-0e0e-4a72-9d0f-d6dad19d1c54",
   "metadata": {},
   "outputs": [],
   "source": [
    "import seaborn as sns\n",
    "import matplotlib.pyplot as plt\n",
    "\n",
    "def plot_hist(df:pd.DataFrame, column:str, color:str)->None:\n",
    "    # plt.figure(figsize=(15, 10))\n",
    "    # fig, ax = plt.subplots(1, figsize=(12, 7))\n",
    "    sns.displot(data=df, x=column, color=color, kde=True, height=7, aspect=2)\n",
    "    plt.title(f'Distribution of {column}', size=20, fontweight='bold')\n",
    "    plt.show()\n",
    "\n",
    "def plot_count(df:pd.DataFrame, column:str) -> None:\n",
    "    plt.figure(figsize=(12, 7))\n",
    "    sns.countplot(data=df, x=column)\n",
    "    plt.title(f'Distribution of {column}', size=20, fontweight='bold')\n",
    "    plt.show()\n",
    "    \n",
    "def plot_bar(df:pd.DataFrame, x_col:str, y_col:str, title:str, xlabel:str, ylabel:str)->None:\n",
    "    plt.figure(figsize=(12, 7))\n",
    "    sns.barplot(data = df, x=x_col, y=y_col)\n",
    "    plt.title(title, size=20)\n",
    "    plt.xticks(rotation=75, fontsize=14)\n",
    "    plt.yticks( fontsize=14)\n",
    "    plt.xlabel(xlabel, fontsize=16)\n",
    "    plt.ylabel(ylabel, fontsize=16)\n",
    "    plt.show()\n",
    "\n",
    "def plot_heatmap(df:pd.DataFrame, title:str, cbar=False)->None:\n",
    "    plt.figure(figsize=(12, 7))\n",
    "    sns.heatmap(df, annot=True, cmap='viridis', vmin=0, vmax=1, fmt='.2f', linewidths=.7, cbar=cbar )\n",
    "    plt.title(title, size=18, fontweight='bold')\n",
    "    plt.show()\n",
    "\n",
    "def plot_box(df:pd.DataFrame, x_col:str, title:str) -> None:\n",
    "    plt.figure(figsize=(12, 7))\n",
    "    sns.boxplot(data = df, x=x_col)\n",
    "    plt.title(title, size=20)\n",
    "    plt.xticks(rotation=75, fontsize=14)\n",
    "    plt.show()\n",
    "\n",
    "def plot_box_multi(df:pd.DataFrame, x_col:str, y_col:str, title:str) -> None:\n",
    "    plt.figure(figsize=(12, 7))\n",
    "    sns.boxplot(data = df, x=x_col, y=y_col)\n",
    "    plt.title(title, size=20)\n",
    "    plt.xticks(rotation=75, fontsize=14)\n",
    "    plt.yticks( fontsize=14)\n",
    "    plt.show()\n",
    "\n",
    "def plot_scatter(df: pd.DataFrame, x_col: str, y_col: str, title: str, hue: str, style: str) -> None:\n",
    "    plt.figure(figsize=(12, 7))\n",
    "    sns.scatterplot(data = df, x=x_col, y=y_col, hue=hue, style=style)\n",
    "    plt.title(title, size=20)\n",
    "    plt.xticks(fontsize=14)\n",
    "    plt.yticks( fontsize=14)\n",
    "    plt.show()"
   ]
  },
  {
   "cell_type": "code",
   "execution_count": 39,
   "id": "b0324d76-dfa1-4ede-9ced-1d0ee69a59d6",
   "metadata": {},
   "outputs": [
    {
     "data": {
      "image/png": "[encoded data removed]",
      "text/plain": [
       "<Figure size 1008x504 with 1 Axes>"
      ]
     },
     "metadata": {
      "needs_background": "light"
     },
     "output_type": "display_data"
    }
   ],
   "source": [
    "plot_hist(filled, 'Social Media(UL/DL)', 'blue')"
   ]
  },
  {
   "cell_type": "code",
   "execution_count": 38,
   "id": "f21add3f-8643-45ef-b691-2cb4084ba538",
   "metadata": {},
   "outputs": [
    {
     "data": {
      "image/png": "[encoded data removed]",
      "text/plain": [
       "<Figure size 1008x504 with 1 Axes>"
      ]
     },
     "metadata": {
      "needs_background": "light"
     },
     "output_type": "display_data"
    }
   ],
   "source": [
    "plot_hist(filled, 'Google(UL/DL)', 'green')"
   ]
  },
  {
   "cell_type": "code",
   "execution_count": 40,
   "id": "dc3d17dc-0cbd-4c95-9173-4c9f9f9ec6b1",
   "metadata": {},
   "outputs": [
    {
     "data": {
      "image/png": "[encoded data removed]",
      "text/plain": [
       "<Figure size 1008x504 with 1 Axes>"
      ]
     },
     "metadata": {
      "needs_background": "light"
     },
     "output_type": "display_data"
    }
   ],
   "source": [
    "plot_hist(filled, 'Youtube(UL/DL)', 'red')"
   ]
  },
  {
   "cell_type": "code",
   "execution_count": 41,
   "id": "5ddfd0d0-dc6c-4898-983d-1c61499e397c",
   "metadata": {},
   "outputs": [
    {
     "data": {
      "image/png": "[encoded data removed]",
      "text/plain": [
       "<Figure size 1008x504 with 1 Axes>"
      ]
     },
     "metadata": {
      "needs_background": "light"
     },
     "output_type": "display_data"
    }
   ],
   "source": [
    "plot_hist(filled, 'Gaming(UL/DL)', 'yellow')"
   ]
  },
  {
   "cell_type": "code",
   "execution_count": 44,
   "id": "ef68ac85-cd3f-4ad6-bcf6-9bc8569cc25a",
   "metadata": {},
   "outputs": [
    {
     "data": {
      "image/png": "[encoded data removed]",
      "text/plain": [
       "<Figure size 1008x504 with 1 Axes>"
      ]
     },
     "metadata": {
      "needs_background": "light"
     },
     "output_type": "display_data"
    }
   ],
   "source": [
    "plot_hist(filled, 'Netflix(UL/DL)', 'brown')"
   ]
  },
  {
   "cell_type": "code",
   "execution_count": 47,
   "id": "65e8bee7-340d-4af4-bb47-5953368d8e85",
   "metadata": {},
   "outputs": [
    {
     "data": {
      "image/png": "[encoded data removed]",
      "text/plain": [
       "<Figure size 1008x504 with 1 Axes>"
      ]
     },
     "metadata": {
      "needs_background": "light"
     },
     "output_type": "display_data"
    }
   ],
   "source": [
    "plot_hist(filled, 'Other(UL/DL)', 'green')"
   ]
  },
  {
   "cell_type": "code",
   "execution_count": 52,
   "id": "156742ac-c8be-4def-809c-a8ee213a25cc",
   "metadata": {},
   "outputs": [
    {
     "data": {
      "text/plain": [
       "<seaborn.axisgrid.FacetGrid at 0x26c56308e50>"
      ]
     },
     "execution_count": 52,
     "metadata": {},
     "output_type": "execute_result"
    },
    {
     "data": {
      "image/png": "[encoded data removed]",
      "text/plain": [
       "<Figure size 360x360 with 1 Axes>"
      ]
     },
     "metadata": {},
     "output_type": "display_data"
    }
   ],
   "source": [
    "sns.set_theme()\n",
    "sns.displot(filled['Dur. (ms)'], kde=True)"
   ]
  },
  {
   "cell_type": "code",
   "execution_count": null,
   "id": "07483ae8-d9bc-42d8-bcf8-7abe3964bdb8",
   "metadata": {},
   "outputs": [],
   "source": []
  }
 ],
 "metadata": {
  "kernelspec": {
   "display_name": "Python 3 (ipykernel)",
   "language": "python",
   "name": "python3"
  },
  "language_info": {
   "codemirror_mode": {
    "name": "ipython",
    "version": 3
   },
   "file_extension": ".py",
   "mimetype": "text/x-python",
   "name": "python",
   "nbconvert_exporter": "python",
   "pygments_lexer": "ipython3",
   "version": "3.9.7"
  }
 },
 "nbformat": 4,
 "nbformat_minor": 5
}
